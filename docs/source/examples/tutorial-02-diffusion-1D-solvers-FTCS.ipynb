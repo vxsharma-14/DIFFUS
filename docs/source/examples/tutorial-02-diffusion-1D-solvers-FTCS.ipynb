{
 "cells": [
  {
   "cell_type": "markdown",
   "metadata": {},
   "source": [
    "# Tutorial 2. Solving a 1D diffusion equation"
   ]
  },
  {
   "cell_type": "code",
   "execution_count": null,
   "metadata": {},
   "outputs": [],
   "source": [
    "\n",
    "# Document Author: Dr. Vishal Sharma\n",
    "# Author email: sharma_vishal14@hotmail.com\n",
    "# License: MIT\n",
    "# This tutorial is applicable for NAnPack version 1.0.0-alpha4 "
   ]
  },
  {
   "cell_type": "markdown",
   "metadata": {},
   "source": [
    "### I. Background\n",
    "\n",
    "The objective of this tutorial is to present the step-by-step solution of a 1D diffusion equation using NAnPack such that users can follow the instructions to learn using this package. The  numerical solution is obtained using the Forward Time Central Spacing (FTCS) method. The detailed description of the FTCS method is presented in Section IV of this tutorial.\n",
    "\n",
    "### II. Case Description\n",
    "\n",
    "We will be solving a classical probkem of a suddenly accelerated plate in fluid mechanicas which has the known exact solution. In this problem, the fluid is\n",
    "bounded between two parallel plates. The upper plate remains stationary and the lower plate is suddenly accelerated in *y*-direction at velocity $U_o$. It is\n",
    "required to find the velocity profile between the plates for the given initial and boundary conditions.\n",
    "\n",
    "(For the sake of simplicity in setting up numerical variables, let's assume that the *x*-axis is pointed in the upward direction and *y*-axis is pointed along the horizontal direction as shown in the schematic below:"
   ]
  },
  {
   "attachments": {
    "1be77927-d72d-49db-86dc-b2af1aeed6b7.png": {
     "image/png": "[encoded data removed]"
    }
   },
   "cell_type": "markdown",
   "metadata": {},
   "source": [
    "![parallel-plate-plot.png](attachment:1be77927-d72d-49db-86dc-b2af1aeed6b7.png)"
   ]
  },
  {
   "cell_type": "markdown",
   "metadata": {},
   "source": [
    "**Initial conditions**\n",
    "$$u(t=0.0, 0.0<x\\leq H) = 0.0 \\;m/s$$\n",
    "$$u(t=0.0, x=0.0) = 40.0 \\;m/s$$\n",
    "\n",
    "**Boundary conditions**\n",
    "$$u(t\\geq0.0, x=0.0) = 40.0 \\;m/s$$\n",
    "$$u(t\\geq0.0, x=H) = 0.0 \\;m/s$$\n",
    "\n",
    "Viscosity of fluid, $\\;\\;\\nu = 2.17*10^{-4} \\;m^2/s$  \n",
    "Distance between plates, $\\;\\;H = 0.04 \\;m$  \n",
    "Grid step size, $\\;\\;dx = 0.001 \\;m$  \n",
    "Simulation time, $\\;\\;T = 1.08 \\;sec$\n",
    "\n",
    "Specify the required simulation inputs based on our setup in the configuration file provided with this package. You may choose to save the configuration file with any other filename. I have saved the configuration file in the \"input\" folder of my project directory such that the relative path is `./input/config.ini`.  "
   ]
  },
  {
   "cell_type": "markdown",
   "metadata": {},
   "source": [
    "### III. Governing Equation\n",
    "\n",
    "The governing equation for the given application is the simplified for the the Navies-Stokes equation which is given as:\n",
    "\n",
    "$$\\frac{\\partial u} {\\partial t} = \\nu\\frac{\\partial^2 u}{\\partial x^2}$$\n",
    "\n",
    "This is the diffusion equation model and is classified as the parabolic PDE.\n",
    "\n",
    "### IV. FTCS method\n",
    "\n",
    "The forward time central spacing approximation equation in 1D is presented here. This is a time explicit method which means that one unknown is calculated using the known neighbouring values from the previous time step. Here *i* represents grid point location, *n*+1 is the future time step, and *n* is the current time step.\n",
    "\n",
    "$$u_{i}^{n+1} = u_{i}^{n} + \\frac{\\nu\\Delta t}{(\\Delta x)^2}(u_{i+1}^{n} - 2u_{i}^{n} + u_{i-1}^{n})$$\n",
    "\n",
    "The order of this approximation is $[(\\Delta t), (\\Delta x)^2]$\n",
    "\n",
    "The diffusion number is given as $d_{x} = \\nu\\frac{\\Delta t}{(\\Delta x)^2}$ and for one-dimensional applications the stability criteria is $d_{x}\\leq\\frac{1}{2}$ \n",
    "\n",
    "The solution presented here is obtained using a diffusion number = 0.5 (CFL = 0.5 in configuration file). Time step size will be computed using the expression of diffusion number. Beginners are encouraged to try diffusion numbers greater than 0.5 as an exercise after running this script.\n",
    "\n",
    "Users are encouraged to read my blogs on numerical methods - [link here](https://www.linkedin.com/in/vishalsharmaofficial/detail/recent-activity/posts/).\n"
   ]
  },
  {
   "cell_type": "markdown",
   "metadata": {},
   "source": [
    "### V. Script Development\n",
    "\n",
    "*Please note that this code script is provided in file `./examples/tutorial-02-diffusion-1D-solvers-FTCS.py`.*\n",
    "\n",
    "As per the Python established coding guidelines [PEP 8](https://www.python.org/dev/peps/pep-0008/#imports), all package imports must be done at the top part of the script in the following sequence -- \n",
    "1. import standard library\n",
    "2. import third party modules\n",
    "3. import local application/library specific\n",
    "\n",
    "Accordingly, in our code we will importing the following required modules (in alphabetical order). If you are using Jupyter notebook, hit `Shift + Enter` on each cell after typing the code."
   ]
  },
  {
   "cell_type": "code",
   "execution_count": 2,
   "metadata": {},
   "outputs": [],
   "source": [
    "import matplotlib.pyplot as plt\n",
    "from nanpack.benchmark import ParallelPlateFlow\n",
    "import nanpack.preprocess as pre\n",
    "from nanpack.grid import RectangularGrid\n",
    "from nanpack.parabolicsolvers import FTCS\n",
    "import nanpack.postprocess as post"
   ]
  },
  {
   "cell_type": "markdown",
   "metadata": {},
   "source": [
    "As the first step in simulation, we have to tell our script to read the inputs and assign those inputs to the variables/objects that we will use in our entire code. For this purpose, there is a class `RunConfig` in `nanpack.preprocess` module. We will call this class and assign an object (instance) to it so that we can use its member variables. The `RunConfig` class is written in such a manner that its methods get executed as soon as it's instance is created. The users must provide the configuration file path as a parameter to `RunConfig` class."
   ]
  },
  {
   "cell_type": "code",
   "execution_count": 3,
   "metadata": {},
   "outputs": [
    {
     "name": "stdout",
     "output_type": "stream",
     "text": [
      "*******************************************************\n",
      "*******************************************************\n",
      "Starting configuration.\n",
      "\n",
      "Searching for simulation configuration file in path:\n",
      "\"D:/MyProjects/projectroot/nanpack/input/config.ini\"\n",
      "SUCCESS: Configuration file parsing.\n",
      "Checking whether all sections are included in config file.\n",
      "Checking section SETUP: Completed.\n",
      "Checking section DOMAIN: Completed.\n",
      "Checking section MESH: Completed.\n",
      "Checking section IC: Completed.\n",
      "Checking section BC: Completed.\n",
      "Checking section CONST: Completed.\n",
      "Checking section STOP: Completed.\n",
      "Checking section OUTPUT: Completed.\n",
      "Checking numerical setup.\n",
      "User inputs in SETUP section check: Completed.\n",
      "Accessing domain geometry configuration: Completed\n",
      "Accessing meshing configuration: Completed.\n",
      "Calculating grid size: Completed.\n",
      "Assigning COLD-START initial conditions to the dependent term.\n",
      "Initialization: Completed.\n",
      "Accessing boundary condition settings: Completed\n",
      "Accessing constant data: Completed.\n",
      "Calculating time step size for the simulation: Completed.\n",
      "Calculating maximum iterations/steps for the simulation: Completed.\n",
      "Accessing simulation stop settings: Completed.\n",
      "Accessing settings for storing outputs: Completed.\n",
      "\n",
      "**********************************************************\n",
      "CASE DESCRIPTION                SUDDENLY ACC. PLATE\n",
      "SOLVER STATE                    TRANSIENT\n",
      "MODEL EQUATION                  DIFFUSION\n",
      "DOMAIN DIMENSION                1D\n",
      "    LENGTH                      0.04\n",
      "GRID STEP SIZE\n",
      "    dX                          0.001\n",
      "TIME STEP                       0.002\n",
      "GRID POINTS\n",
      "    along X                     41\n",
      "DIFFUSION CONST.                2.1700e-04\n",
      "DIFFUSION NUMBER                0.5\n",
      "TOTAL SIMULATION TIME           1.08\n",
      "NUMBER OF TIME STEPS            468\n",
      "START CONDITION                 COLD-START\n",
      "**********************************************************\n",
      "SUCEESS: Configuration completed.\n",
      "\n"
     ]
    }
   ],
   "source": [
    "FileName = \"path/to/project/input/config.ini\" # specify the correct file path\n",
    "cfg = pre.RunConfig(FileName) # cfg is an instance of RunConfig class which can be used to access class variables. You may choose any variable in place of cfg."
   ]
  },
  {
   "cell_type": "markdown",
   "metadata": {},
   "source": [
    "You will obtain several configuration messages on your output screen so that you can verify that your inputs are correct and that the configuration is successfully completed. Next step is the assignment of initial conditions and the boundary conditions. For assigning boundary conditions, I have created a function `BC()` which we will be calling in the next cell. I have included this function at the bottom of this tutorial for your reference. It is to be noted that U is the dependent variable that was initialized when we executed the configuration, and thus we will be using `cfg.U` to access the initialized U. In a similar manner, all the inputs provided in the configuration file can be obtained by using configuration class object `cfg.` as the prefix to the variable names. Users are allowed to use any object of their choice.\n",
    "\n",
    "*If you are using Jupyter Notebook, the function BC must be executed before referencing to it, otherwise, you will get an error. Jump to the bottom of this notebook where you see code cell # 1 containing the `BC()` function*"
   ]
  },
  {
   "cell_type": "code",
   "execution_count": 4,
   "metadata": {},
   "outputs": [],
   "source": [
    "# Assign initial conditions\n",
    "cfg.U[0] = 40.0\n",
    "cfg.U[1:] = 0.0\n",
    "\n",
    "# Assign boundary conditions\n",
    "U = BC(cfg.U)"
   ]
  },
  {
   "cell_type": "markdown",
   "metadata": {},
   "source": [
    "Next, we will be calculating location of all grid points within the domain using the function `RectangularGrid()` and save values into X. We will also require to calculate diffusion number in X direction. In nanpack, the program treats the diffusion number = CFL for 1D applications that we entered in the configuration file, and therefore this step may be skipped, however, it is not the same in two-dimensional applications and therefore to stay consistent and to avoid confusion we will be using the function `DiffusionNumbers()` to compute the term `diffX`.  "
   ]
  },
  {
   "cell_type": "code",
   "execution_count": 5,
   "metadata": {},
   "outputs": [
    {
     "name": "stdout",
     "output_type": "stream",
     "text": [
      "Uniform rectangular grid generation in cartesian coordinate system: Completed.\n"
     ]
    }
   ],
   "source": [
    "X, _ = RectangularGrid(cfg.dX, cfg.iMax)"
   ]
  },
  {
   "cell_type": "code",
   "execution_count": 6,
   "metadata": {},
   "outputs": [
    {
     "name": "stdout",
     "output_type": "stream",
     "text": [
      "Calculating diffusion numbers: Completed.\n"
     ]
    }
   ],
   "source": [
    "diffX,_ = pre.DiffusionNumbers(cfg.Dimension, cfg.diff, cfg.dT, cfg.dX)"
   ]
  },
  {
   "cell_type": "markdown",
   "metadata": {},
   "source": [
    "Next, we will initialize some local variables before start the time stepping:"
   ]
  },
  {
   "cell_type": "code",
   "execution_count": 7,
   "metadata": {},
   "outputs": [],
   "source": [
    "Error = 1.0 # variable to keep track of error\n",
    "n = 0 # variable to advance in time"
   ]
  },
  {
   "cell_type": "markdown",
   "metadata": {},
   "source": [
    "Start time loop using while loop such that if one of the condition returns False, the time stepping will be stopped. For explanation of each line, see the comments. Please note the identation of the codes within the while loop. Take extra care with indentation as Python is very particular about it."
   ]
  },
  {
   "cell_type": "code",
   "execution_count": 8,
   "metadata": {},
   "outputs": [
    {
     "name": "stdout",
     "output_type": "stream",
     "text": [
      "   ITER           ERROR\n",
      "   ----           -----\n",
      "     10      4.92187500\n",
      "     20      3.52394104\n",
      "     30      2.88928896\n",
      "     40      2.50741375\n",
      "     50      2.24550338\n",
      "     60      2.05156084\n",
      "     70      1.90048503\n",
      "     80      1.77844060\n",
      "     90      1.67704721\n",
      "    100      1.59085792\n",
      "    110      1.51614304\n",
      "    120      1.45025226\n",
      "    130      1.39125374\n",
      "    140      1.33771501\n",
      "    150      1.28856146\n",
      "    160      1.24298016\n",
      "    170      1.20035213\n",
      "    180      1.16020337\n",
      "    190      1.12216882\n",
      "    200      1.08596559\n",
      "    210      1.05137298\n",
      "    220      1.01821734\n",
      "    230      0.98636083\n",
      "    240      0.95569280\n",
      "    250      0.92612336\n",
      "    260      0.89757851\n",
      "    270      0.86999638\n",
      "    280      0.84332454\n",
      "    290      0.81751777\n",
      "    300      0.79253655\n",
      "    310      0.76834575\n",
      "    320      0.74491380\n",
      "    330      0.72221190\n",
      "    340      0.70021355\n",
      "    350      0.67889409\n",
      "    360      0.65823042\n",
      "    370      0.63820074\n",
      "    380      0.61878436\n",
      "    390      0.59996158\n",
      "    400      0.58171354\n",
      "    410      0.56402217\n",
      "    420      0.54687008\n",
      "    430      0.53024053\n",
      "    440      0.51411737\n",
      "    450      0.49848501\n",
      "    460      0.48332837\n",
      "\n",
      "STATUS: SOLUTION OBTAINED AT\n",
      "TIME LEVEL= 1.08 s.\n",
      "TIME STEPS= 468\n",
      "\n",
      "Writing convergence log file: Completed.\n",
      "Files saved:\n",
      "\"D:/MyProjects/projectroot/nanpack/output/HISTftcs1D.dat\".\n"
     ]
    }
   ],
   "source": [
    "while n <= cfg.nMax and Error > cfg.ConvCrit: # start loop\n",
    "    Error = 0.0 # reset error to 0.0 at the beginning of each step\n",
    "    n += 1 # advance the value of n at each step\n",
    "    Uold = U.copy() # store solution at time level, n\n",
    "    U = FTCS(Uold, diffX) # solve for U using FTCS method at time level n+1\n",
    "    Error = post.AbsoluteError(U, Uold) # calculate errors\n",
    "    U = BC(U) # Update BC\n",
    "    post.MonitorConvergence(cfg, n, Error) # Use this function to monitor convergence\n",
    "    post.WriteSolutionToFile(U, n, cfg.nWrite, cfg.nMax,\\\n",
    "                             cfg.OutFileName, cfg.dX) # Write output to file\n",
    "    post.WriteConvHistToFile(cfg, n, Error) # Write convergence log to history file"
   ]
  },
  {
   "cell_type": "markdown",
   "metadata": {},
   "source": [
    "In the above convergence monitor, it is worth noting that the solution error is gradually moving towards zero which is what we need to confirm stability in the solution. If the solution becomes unstable, the errors will rise, probably upto the point where your code will crash. As you know that the solution obtained is a time-dependent solution and therefore, we didn't allow the code to run until the convergence is observed. If a steady-state solution is desired, change the STATE key in the configuration file equals to \"STEADY\" and specify a much larger value of nMax key, say nMax = 5000. This is left as an exercise for the users to obtain a stead-state solution. Also, try running the solution with the larger grid step size, $\\Delta x$ or a larger time step size, $\\Delta t$.\n",
    "\n",
    "After the time stepping is completed, save the final results to the output files."
   ]
  },
  {
   "cell_type": "code",
   "execution_count": 9,
   "metadata": {},
   "outputs": [],
   "source": [
    "# Write output to file\n",
    "post.WriteSolutionToFile(U, n, cfg.nWrite, cfg.nMax,\n",
    "                         cfg.OutFileName, cfg.dX)\n",
    "# Write convergence history log to a file\n",
    "post.WriteConvHistToFile(cfg, n, Error)"
   ]
  },
  {
   "cell_type": "markdown",
   "metadata": {},
   "source": [
    "Verify that the files are saved in the target directory.\n",
    "Now let us obtain analytical solution of this flow that will help us in validating our codes."
   ]
  },
  {
   "cell_type": "code",
   "execution_count": 10,
   "metadata": {},
   "outputs": [],
   "source": [
    "# Obtain analytical solution\n",
    "Uana = ParallelPlateFlow(40.0, X, cfg.diff, cfg.totTime, 20)"
   ]
  },
  {
   "cell_type": "markdown",
   "metadata": {},
   "source": [
    "Next, we will validate our results by plotting the results using the matplotlib package that we have imported above. Type the following lines of codes:"
   ]
  },
  {
   "cell_type": "code",
   "execution_count": 11,
   "metadata": {},
   "outputs": [
    {
     "data": {
      "image/png": "[encoded data removed]",
      "text/plain": [
       "<Figure size 900x600 with 1 Axes>"
      ]
     },
     "metadata": {
      "needs_background": "light"
     },
     "output_type": "display_data"
    }
   ],
   "source": [
    "plt.rc(\"font\", family=\"serif\", size=8) # Assign fonts in the plot\n",
    "fig, ax = plt.subplots(dpi=150) # Create axis for plotting\n",
    "plt.plot(U, X, \">-.b\", linewidth=0.5, label=\"FTCS\",\\\n",
    "         markersize=5, markevery=5) # Plot data with required labels and markers, customize the plot however you may like\n",
    "plt.plot(Uana, X, \"o:r\", linewidth=0.5, label=\"Analytical\",\\\n",
    "             markersize=5, markevery=5) # Plot analytical solution on the same plot\n",
    "plt.xlabel('Velocity (m/s)') # X-axis labelling\n",
    "plt.ylabel('Plate distance (m)') # Y-axis labelling\n",
    "plt.title(f\"Velocity profile\\nat t={cfg.totTime} sec\", fontsize=8) # Plot title\n",
    "plt.show() # Show plot- this command is very important"
   ]
  },
  {
   "cell_type": "markdown",
   "metadata": {},
   "source": [
    "Function for the boundary conditions."
   ]
  },
  {
   "cell_type": "code",
   "execution_count": 1,
   "metadata": {},
   "outputs": [],
   "source": [
    "def BC(U):\n",
    "    \"\"\"Return the dependent variable with the updated values at the boundaries.\"\"\"\n",
    "    U[0] = 40.0\n",
    "    U[-1] = 0.0\n",
    "\n",
    "    return U"
   ]
  },
  {
   "cell_type": "markdown",
   "metadata": {},
   "source": [
    "Congratulations, you have completed the first coding tutoria using nanpack package and verified that your codes produced correct results. If you solve some other similar diffusion-1D model example, share it with the nanpack community. I will be excited to see your projects."
   ]
  }
 ],
 "metadata": {
  "kernelspec": {
   "display_name": "Python 3",
   "language": "python",
   "name": "python3"
  },
  "language_info": {
   "codemirror_mode": {
    "name": "ipython",
    "version": 3
   },
   "file_extension": ".py",
   "mimetype": "text/x-python",
   "name": "python",
   "nbconvert_exporter": "python",
   "pygments_lexer": "ipython3",
   "version": "3.7.4"
  }
 },
 "nbformat": 4,
 "nbformat_minor": 4
}
