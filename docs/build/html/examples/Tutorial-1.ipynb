{
 "cells": [
  {
   "cell_type": "markdown",
   "metadata": {},
   "source": [
    "# Tutorial 1. Understanding Configuration File"
   ]
  },
  {
   "cell_type": "code",
   "execution_count": 1,
   "metadata": {
    "execution": {
     "iopub.execute_input": "2021-02-03T10:03:59.348123Z",
     "iopub.status.busy": "2021-02-03T10:03:59.345133Z",
     "iopub.status.idle": "2021-02-03T10:03:59.351113Z",
     "shell.execute_reply": "2021-02-03T10:03:59.353110Z"
    }
   },
   "outputs": [],
   "source": [
    "\n",
    "# Document Author: Dr. Vishal Sharma\n",
    "# Author email: sharma_vishal14@hotmail.com\n",
    "# \n",
    "# This tutorial is applicable for NAnPack version 1.0.0-alpha4 "
   ]
  },
  {
   "cell_type": "markdown",
   "metadata": {},
   "source": [
    "For installation instructions, see [Installation](https://github.com/vxsharma-14/project-NAnPack/blob/main/docs/INSTALLATION.md) page."
   ]
  },
  {
   "cell_type": "markdown",
   "metadata": {},
   "source": [
    "The very first step to start using this package is to get familiar with the configuration file \"config.ini\". It is expected that the package users are familiar with the general terms, model equations etc. used in engineering simulations. \n",
    "\n",
    "The configuration file is used as a tool to set-up the scenario that is to be solved numerically. The file accepts several inputs that are required in the pre-processing and post-processing steps of the simulation. Although users may choose to define the inputs in the scripts that they will develop without having to use the config file, however, it is highly recommended to set-up the numerical experiments using this configuration file. By doing so, users, particularly the starters in CFD, will get an idea about what information they will require beforehand in their experimentation as well as they will be able to make the best use of this package.\n",
    "\n",
    "The structure of the config file includes the section name in square paranthesis [SECTION-NAME] and each section consists of key-value pairs in the format KEY = VALUE. The keys must not be changed by the user unless specified and user defined inputs must be specified in the value fields."
   ]
  },
  {
   "cell_type": "markdown",
   "metadata": {},
   "source": [
    "### Section - [SETUP]\n",
    "\n",
    "**Provide the various experiment related description as inputs in this section.**"
   ]
  },
  {
   "cell_type": "markdown",
   "metadata": {},
   "source": [
    "    [SETUP]\n",
    "    \n",
    "        EXPID       =   xxxxxxxx-xx  \n",
    "        UNITS_SYSTEM=   BRITISH or SI  \n",
    "        DESCRIPTION\t=   enter short description  \n",
    "        STATE \t\t=   TRANSIENT or STEADY-STATE  \n",
    "        MODEL\t\t=   FO_WAVE  \n",
    "        SCHEME\t\t=   RUNGE-KUTTA  \n",
    "        DIMENSION \t=   1D  "
   ]
  },
  {
   "cell_type": "markdown",
   "metadata": {},
   "source": [
    "***'EXPID'***: Experiment ID- a unique ID that you can assign to your experiments. \n",
    "    \n",
    "*I always prefer to include an ID for my records so that I can distinguish my experiment outputs from one another and for any changes I make in experiment set-up, I increment this ID number. Typically, an ID may be of the format MMDDYYYY-Serial No. There may be several usages of this id, such as users may make a folder using this ID and save the output with the associated configuration file in this folder and repeat this process for each experiment. Adopting a Unique ID assigning strategy in the experiments help in efficient record management which is very important when publishing data or for reproducibility.*\n",
    "\n",
    "***'UNITS_SYSTEM'***: Mention the system of units used in the simulation. This field helps in keeping track of the unit and to stay consistent with the system. It is also wise to save the unit system for the records.\n",
    "\n",
    "***'DESCRIPTION'***: Enter a short case description such as STEADY STATE HEAT CONDUCTION SIMULATION. Datatype = *string*.\n",
    "\n",
    "***'STATE'***: Allowed inputs are STEADY-STATE or TRANSIENT. The field represents the state at which the results are desired. Depending on the case, a value must be entered. This is a required field to calculate several simulation parameters by the program setup.\n",
    "\n",
    "***'MODEL'***: Classification of model equation. Allowed inputs are DIFFUSION, WAVE, FO_WAVE, VISC_BURGERS, INV_BURGERS. This field is required by the program setup. Please note that these model equations require only one dependent variable to be solved along X or along X and Y at each iteration level.\n",
    "\n",
    "***'SCHEME'***: User may choose to specify the numerical method they will be using in the simulation. This field is optional in the current version.\n",
    "\n",
    "***'DIMENSION'***: Allowed input 1D or 2D, depending on the simulation domain. This is required by the program setup."
   ]
  },
  {
   "cell_type": "markdown",
   "metadata": {},
   "source": [
    "### Section - [DOMAIN]\n",
    "\n",
    "**The domain specification is entered in this section depending on 1D or 2D simulation.**"
   ]
  },
  {
   "cell_type": "markdown",
   "metadata": {},
   "source": [
    "    [DOMAIN]\n",
    "    \n",
    "        LENGTH \t\t=   400.0  \n",
    "        HEIGHT \t\t=   0.0  "
   ]
  },
  {
   "cell_type": "markdown",
   "metadata": {},
   "source": [
    "***'LENGTH'***: Length of the domain (along X axis). Value required. Datatype = *float*.\n",
    "\n",
    "***'HEIGHT'***: Height of the domain (along Y axis). If DIMENSION = 2D, value required. Datatype = *float*."
   ]
  },
  {
   "cell_type": "markdown",
   "metadata": {},
   "source": [
    "### Section - [MESH]\n",
    "\n",
    "**Provide the details for meshing in this section.**"
   ]
  },
  {
   "cell_type": "markdown",
   "metadata": {},
   "source": [
    "    [MESH]\n",
    "    \n",
    "        GRID_FROM_FILE?\t=   NO  \n",
    "        GRID_FNAME\t    =   none  \n",
    "        GRID_AUTO_CALC?\t=   YES  \n",
    "        dX \t\t        =   5.0  \n",
    "        dY \t\t        =   0.05  \n",
    "        iMax \t        =   0  \n",
    "        jMax \t\t    =   0  "
   ]
  },
  {
   "cell_type": "markdown",
   "metadata": {},
   "source": [
    "***'GRID_FROM_FILE?'***: Read grid data from input file? This version does not support grid input through file, therefore keep the value as NO.\n",
    "\n",
    "***'GRID_FNAME'***: Grid input file name. This field is used to enter the file name for the grid input. Since, we have specified GRID_FROM_FILE as NO, leave it as 'none'.\n",
    "\n",
    "***'GRID_AUTO_CALC?'***: Auto-calculate grid points? Enter YES or NO. If mentioned YES, grid step size- (dX) or (dX, dY) must be entered and the program will auto-compute the grid points in the mesh. If mentioned NO, maximum grid points in the mesh- (iMax) or (iMax, jMAx) must be specified. For beginners, enter YES and specify dX, dY values. \n",
    "\n",
    "Datatype for dX, dY = *float*.  \n",
    "Datatype for iMax, jMax = *integer*.\n",
    "\n",
    "*Please note that the current version supports only uniform, finite difference grid in the simulation which is good for applications with rectangular, simply connected domain. Advanced techniques will be introduced in subsequent versions.*"
   ]
  },
  {
   "cell_type": "markdown",
   "metadata": {},
   "source": [
    "### Section - [IC]\n",
    "\n",
    "**Provide the option for the starting point (initial conditions) of the simulation.**"
   ]
  },
  {
   "cell_type": "markdown",
   "metadata": {},
   "source": [
    "    [IC]\n",
    "    \n",
    "        START_OPT   \t=   COLD-START  \n",
    "        RESTART_FILE\t=   none  "
   ]
  },
  {
   "cell_type": "markdown",
   "metadata": {},
   "source": [
    "***'START_OPT'***: Starting option. Allowed inputs are COLD-START or RESTART. In the present version, only COLD-START feature is available which allows the user to start the simulation from zero initial values or using user developed subroutine for initial conditions. \n",
    "\n",
    "*RESTART conditions are useful when it is desired to start the simulation from the previously stored solution, for example, consider a scenario where your simulation ran for 24 hours or thousands of iterations without converging and your application crashed or reached a maximum limit of iterations, will it be efficient to run the simulation again from the beginning or by using previously stored solution as the starting point? Another scenario- starting a simulation from a converged solution to test something new will help in faster convergence.*\n",
    "\n",
    "***'RESTART_FILE'***: Restart file name. File name for the program to read the stored solution. If START_OPT = COLD_START, leave it as none, otherwise specify the file name."
   ]
  },
  {
   "cell_type": "markdown",
   "metadata": {},
   "source": [
    "### Section - [BC]\n",
    "\n",
    "**Provide the information whether to read the boundary conditions from a configuration file.**"
   ]
  },
  {
   "cell_type": "markdown",
   "metadata": {},
   "source": [
    "    [BC]\n",
    "    \n",
    "        BC_FROM_FILE?\t=   NO  \n",
    "        BC_FILE_NAME \t=   none  "
   ]
  },
  {
   "cell_type": "markdown",
   "metadata": {},
   "source": [
    "***'BC_FROM_FILE?'***: Read boundary conditions from file? Allowed inputs are YES or NO. First time users- enter NO.\n",
    "\n",
    "*There is a \"bc.ini\" file included in this package download, however, it is recommended to write a function to assign boundary conditions. There will be a separate tutorial on the boundary condition specification through \"bc.ini\" file.*\n",
    "\n",
    "***'BC_FILE_NAME'***: Boundary condition input file name. If BC_FROM_FILE? = YES, the program will read the stored boundary conditions from file. If BC_FROM_FILE = NO, leave it as none."
   ]
  },
  {
   "cell_type": "markdown",
   "metadata": {},
   "source": [
    "### Section - [CONST]\n",
    "\n",
    "**Provide the information to specify the constants in the model equations.**"
   ]
  },
  {
   "cell_type": "markdown",
   "metadata": {},
   "source": [
    "    [CONST]\n",
    "    \n",
    "        CFL \t\t    =   1.0  \n",
    "        CONV \t\t    =   250.0  \n",
    "        DIFF \t\t    =   0.0  "
   ]
  },
  {
   "cell_type": "markdown",
   "metadata": {},
   "source": [
    "*The program uses these constants to calculate coefficients in the finite difference approximations.*\n",
    "\n",
    "***'CFL'***: This is a number that represents the constant coefficient in the finite difference formulation. The CFL number is used to determine the time related parameters in the program and it must satisfy the stability condition, otherwise, the solution will not converge. This is a required field. Datatype = *float*.\n",
    "\n",
    "***'CONV'***: Convection coefficient. This is a required field for convection models such as WAVE equation. Datatype = *float*.\n",
    "\n",
    "***'DIFF'***: Diffusion coefficient. This is a required field for diffusion models such as DIFFUSION equation. Datatype = *float*."
   ]
  },
  {
   "cell_type": "markdown",
   "metadata": {},
   "source": [
    "### Section - [STOP]\n",
    "\n",
    "**Provide the information about stopping simulation.**"
   ]
  },
  {
   "cell_type": "markdown",
   "metadata": {},
   "source": [
    "    [STOP]\n",
    "    \n",
    "        SIM_TIME \t    =   0.45  \n",
    "        CONV_CRIT \t    =   0.01  \n",
    "        nMAX \t\t    =   3000  "
   ]
  },
  {
   "cell_type": "markdown",
   "metadata": {},
   "source": [
    "*It is always helpful to restrict the simulation time or iterations to terminate the program without crashing it. Consider a scenario when the solution has converged but it continues to solve the equations because the user did not set a break point and thus, the simulation has to be stopped somehow. Consider another scenario when you desire time-dependent solution but you have to do hand computations to calculate the required time-steps. Such scenarios can be avoided by specifying values in this section and let the program handle the termination process.\n",
    "\n",
    "***'SIM_TIME'***: Simulation time, required field for time-dependent solution. Datatype = *float*.\n",
    "\n",
    "***'CONV_CRIT'***: Convergence criteria, required field for steady-state solution. Datatype = *float*.\n",
    "\n",
    "***'nMax'***: Maximum iterations/time levels to terminate the program if solution didn't converge. This is a required field. Datatype = *integer*."
   ]
  },
  {
   "cell_type": "markdown",
   "metadata": {},
   "source": [
    "### Section - [OUTPUT]\n",
    "\n",
    "**Provide information about saving output or monitoring convergence.**"
   ]
  },
  {
   "cell_type": "markdown",
   "metadata": {},
   "source": [
    "    [OUTPUT]\n",
    "    \n",
    "        HIST_FILE_NAME \t=   ./output/HISTfct1D.dat  \n",
    "        RESTART_FNAME \t=   none  \n",
    "        RESULT_FNAME \t=   ./output/fct1D.dat  \n",
    "        WRITE_EVERY \t=   10  \n",
    "        DISPLAY_EVERY \t=   10  \n",
    "        SAVE_FOR_ANIM?\t=   NO  \n",
    "        SAVE_EVERY \t    =   10  \n",
    "        SAVE_1D_OUTPUT?\t=   YES  \n",
    "        X \t\t        =   0.2,0.4,0.6,0.8,1.0  \n",
    "        SAVE1D_FILENAME =   ./output/fo-up1Dx.dat  "
   ]
  },
  {
   "cell_type": "markdown",
   "metadata": {},
   "source": [
    "***'HIST_FILE_NAME'***: Convergence history file name. The convergence history will be stored in this file. This is required if the user wants to store convergence data.\n",
    "\n",
    "***'RESTART_FNAME'***: File to create a restart point. This file may be used later when the user wants to restart the solution from the stored solution. This feature is not supported in the present version.\n",
    "\n",
    "***'RESULT_FNAME'***: Output file name. The solution of the dependent variable will be stored in this file at each grid point locations within the domain. This is a required field.\n",
    "\n",
    "***'WRITE_EVERY'***: Write solution file after every how many iterations? Datatype = *integer*.\n",
    "\n",
    "*For example, value = 10 means that the solution will be saved to files after every 10 iteration steps. This is a required field. To optimize the computational processing, use larger values depending on the problem.*\n",
    "\n",
    "***'DISPLAY_EVERY'***: Write and display convergence history after every how many iterations? Datatype = *integer*.\n",
    "\n",
    "***'SAVE_FOR_ANIM?'***: Save intermediate solutions in separate files for animation? Allowed inputs are YES or NO. This feature is not available in the current version, thus enter NO.\n",
    "\n",
    "***'SAVE_EVERY'***: Save files for animation after every how many iterations? Datatype = *integer*. This field is required if SAVE_FOR_ANIM = YES.\n",
    "\n",
    "***'SAVE_1D_OUTPUT'***: Save output in 1D format along X or Y in 2D simulation? Allowed inputs are YES or NO.\n",
    "\n",
    "*While validating numerical methods, it is important to plot line graphs to compare the output with the known analytical solution to benchmark the method. In such cases, plotting the colorful contour plots does not help and thus solution of the dependent variable along an axis is required, for example u(x=0.2, y) can be plotted to perform a detailed analysis. It is recommended to use this feature for 2D simulations.*\n",
    "\n",
    "***'X'*** or ***'Y'***: This key must be changed based on direction of the nodes at which the 1D solution is desired to be saved. The values to the key are the X or Y locations. Datatype = *float*.\n",
    "\n",
    "*Example: If the user wants to save the solution for u at x = 0.2, 0.4, 0.6 locations such that u(x=0.2, y), u(x=0.4, y), u(x=0.6, y), type the key as X and the values as 0.2, 0.4, 0.6 (separated by ',').\n",
    "Vice-versa, to save u(x, y=0.3), u(x,y=0.6), u(x, y=0.9), type the key as 'Y' and the values as 0.3, 0.6, 0.9.*\n",
    "\n",
    "***'SAVE1D_FILENAME'***: 1D output file name. The solution of the dependent variable along the specified axis and locations will be stored in this file. This is required if SAVE_1D_OUTPUT = YES."
   ]
  }
 ],
 "metadata": {
  "kernelspec": {
   "display_name": "Python 3",
   "language": "python",
   "name": "python3"
  },
  "language_info": {
   "codemirror_mode": {
    "name": "ipython",
    "version": 3
   },
   "file_extension": ".py",
   "mimetype": "text/x-python",
   "name": "python",
   "nbconvert_exporter": "python",
   "pygments_lexer": "ipython3",
   "version": "3.7.4"
  }
 },
 "nbformat": 4,
 "nbformat_minor": 4
}
